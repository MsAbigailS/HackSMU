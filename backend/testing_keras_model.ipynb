{
 "cells": [
  {
   "cell_type": "code",
   "execution_count": 33,
   "metadata": {},
   "outputs": [],
   "source": [
    "from keras.models import Sequential\n",
    "from keras.layers import Conv1D, Dense, Flatten\n",
    "import pandas\n",
    "from keras.models import load_model\n",
    "import numpy"
   ]
  },
  {
   "cell_type": "code",
   "execution_count": 34,
   "metadata": {},
   "outputs": [
    {
     "name": "stdout",
     "output_type": "stream",
     "text": [
      "[ 298.2  308.7 1408.    46.3    3. ]\n"
     ]
    },
    {
     "data": {
      "text/plain": [
       "array([[0.],\n",
       "       [0.],\n",
       "       [0.],\n",
       "       ...,\n",
       "       [0.],\n",
       "       [0.],\n",
       "       [0.]], dtype=float32)"
      ]
     },
     "execution_count": 34,
     "metadata": {},
     "output_type": "execute_result"
    }
   ],
   "source": [
    "df = pandas.read_csv(\"predictive_maintenance.csv\")\n",
    "\n",
    "\n",
    "x = df.iloc[:, 3:8]\n",
    "x = numpy.array(x).astype('float32')\n",
    "print(x[1])\n",
    "\n",
    "y = df.iloc[:, 9:10]\n",
    "\n",
    "# if \"No Failure\" then 0\n",
    "# else 1\n",
    "for i in range(len(y)):\n",
    "\tif y.iloc[i, 0] == \"No Failure\":\n",
    "\t\ty.iloc[i, 0] = 0\n",
    "\telse:\n",
    "\t\ty.iloc[i, 0] = 1\n",
    "\n",
    "y = numpy.array(y).astype('float32')\n",
    "\n",
    "y"
   ]
  },
  {
   "cell_type": "code",
   "execution_count": 35,
   "metadata": {},
   "outputs": [],
   "source": [
    "\n",
    "model = Sequential()\n",
    "model.add(Dense(8, activation=\"sigmoid\"))\n",
    "model.add(Dense(2, activation=\"sigmoid\"))"
   ]
  },
  {
   "cell_type": "code",
   "execution_count": 36,
   "metadata": {},
   "outputs": [
    {
     "name": "stdout",
     "output_type": "stream",
     "text": [
      "Epoch 1/10\n"
     ]
    },
    {
     "name": "stdout",
     "output_type": "stream",
     "text": [
      "250/250 [==============================] - 1s 1ms/step - loss: 0.5584 - accuracy: 0.7425\n",
      "Epoch 2/10\n",
      "250/250 [==============================] - 0s 1ms/step - loss: 0.2143 - accuracy: 0.9611\n",
      "Epoch 3/10\n",
      "250/250 [==============================] - 0s 1ms/step - loss: 0.1735 - accuracy: 0.9611\n",
      "Epoch 4/10\n",
      "250/250 [==============================] - 0s 1ms/step - loss: 0.1647 - accuracy: 0.9611\n",
      "Epoch 5/10\n",
      "250/250 [==============================] - 0s 1ms/step - loss: 0.1612 - accuracy: 0.9611\n",
      "Epoch 6/10\n",
      "250/250 [==============================] - 0s 1ms/step - loss: 0.1620 - accuracy: 0.9611\n",
      "Epoch 7/10\n",
      "250/250 [==============================] - 0s 1ms/step - loss: 0.1612 - accuracy: 0.9611\n",
      "Epoch 8/10\n",
      "250/250 [==============================] - 0s 1ms/step - loss: 0.1610 - accuracy: 0.9611\n",
      "Epoch 9/10\n",
      "250/250 [==============================] - 0s 1ms/step - loss: 0.1606 - accuracy: 0.9611\n",
      "Epoch 10/10\n",
      "250/250 [==============================] - 0s 1ms/step - loss: 0.1613 - accuracy: 0.9611\n",
      "63/63 [==============================] - 0s 1ms/step - loss: 0.0980 - accuracy: 0.9815\n"
     ]
    },
    {
     "data": {
      "text/plain": [
       "[0.09800641238689423, 0.9815000295639038]"
      ]
     },
     "execution_count": 36,
     "metadata": {},
     "output_type": "execute_result"
    }
   ],
   "source": [
    "x_train = x[:int(len(x) * 0.8)]\n",
    "y_train = y[:int(len(y) * 0.8)]\n",
    "x_test = x[int(len(x) * 0.8):]\n",
    "y_test = y[int(len(y) * 0.8):]\n",
    "\n",
    "model.compile(optimizer=\"adam\", loss=\"sparse_categorical_crossentropy\", metrics=[\"accuracy\"])\n",
    "\n",
    "model.fit(x_train, y_train, epochs=10)\n",
    "\n",
    "model.evaluate(x_test, y_test)"
   ]
  },
  {
   "cell_type": "code",
   "execution_count": 37,
   "metadata": {},
   "outputs": [
    {
     "name": "stderr",
     "output_type": "stream",
     "text": [
      "c:\\Users\\Ordin\\OneDrive\\Documents\\GithubProjects\\HackSMU\\backend\\.env\\Lib\\site-packages\\keras\\src\\engine\\training.py:3000: UserWarning: You are saving your model as an HDF5 file via `model.save()`. This file format is considered legacy. We recommend using instead the native Keras format, e.g. `model.save('my_model.keras')`.\n",
      "  saving_api.save_model(\n"
     ]
    }
   ],
   "source": [
    "# save the trained model to a file\n",
    "model.save(\"predictive_maintenance.h5\")"
   ]
  },
  {
   "cell_type": "code",
   "execution_count": 40,
   "metadata": {},
   "outputs": [],
   "source": [
    "# load the model from a file\n",
    "model = load_model(\"predictive_maintenance.h5\")\n"
   ]
  },
  {
   "cell_type": "code",
   "execution_count": 78,
   "metadata": {},
   "outputs": [
    {
     "name": "stdout",
     "output_type": "stream",
     "text": [
      "1/1 [==============================] - 0s 25ms/step\n",
      "1/1 [==============================] - 0s 20ms/step\n",
      "The probability of failure is 10.91756746172905 %\n"
     ]
    }
   ],
   "source": [
    "\n",
    "# predict the failure probability of a new machine\n",
    "# with the following sensor readings\n",
    "# 298.1, 300.1, 1100, 39.2, 0\n",
    "# 300.8,309.4,1342,62.4,113 - Heat Dissipation Failure\n",
    "test_new = numpy.array([[303.8,310.4,1542,162.4,10]])\n",
    "model.predict(test_new)\n",
    "\n",
    "# interpret the prediction\n",
    "print(\"The probability of failure is\", model.predict(test_new)[0][1] * 100, \"%\")"
   ]
  }
 ],
 "metadata": {
  "kernelspec": {
   "display_name": ".env",
   "language": "python",
   "name": "python3"
  },
  "language_info": {
   "codemirror_mode": {
    "name": "ipython",
    "version": 3
   },
   "file_extension": ".py",
   "mimetype": "text/x-python",
   "name": "python",
   "nbconvert_exporter": "python",
   "pygments_lexer": "ipython3",
   "version": "3.11.4"
  },
  "orig_nbformat": 4
 },
 "nbformat": 4,
 "nbformat_minor": 2
}
